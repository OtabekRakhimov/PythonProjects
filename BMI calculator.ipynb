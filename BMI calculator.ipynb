{
 "cells": [
  {
   "cell_type": "code",
   "execution_count": null,
   "id": "01edc25a",
   "metadata": {},
   "outputs": [],
   "source": [
    "weight = int(input(\"Enter your weight in kg: \"))\n",
    "\n",
    "height = int(input(\"Enter your height in cm: \"))\n",
    "\n",
    "BMI = (weight) / (height * height) * 10000\n",
    "\n",
    "print(BMI)\n",
    "\n",
    "if BMI>0:\n",
    "    if(BMI<18.5):\n",
    "        print(\"Underweight =< 18.5\")\n",
    "    elif (BMI<=24.9):\n",
    "        print(\"Normal weight = 18.5-24.9\")\n",
    "    elif (BMI<=29.9):\n",
    "        print(\"Overweight = 25-29.9\")\n",
    "    elif (BMI<=30):\n",
    "        print(\"Obesity = BMI of 30 or greater\")\n",
    "    else:\n",
    "        print(name +\", you are morbidly obese.\")\n",
    "else:\n",
    "    print(\"Enter valid input\")"
   ]
  }
 ],
 "metadata": {
  "kernelspec": {
   "display_name": "Python 3",
   "language": "python",
   "name": "python3"
  },
  "language_info": {
   "codemirror_mode": {
    "name": "ipython",
    "version": 3
   },
   "file_extension": ".py",
   "mimetype": "text/x-python",
   "name": "python",
   "nbconvert_exporter": "python",
   "pygments_lexer": "ipython3",
   "version": "3.8.8"
  }
 },
 "nbformat": 4,
 "nbformat_minor": 5
}
